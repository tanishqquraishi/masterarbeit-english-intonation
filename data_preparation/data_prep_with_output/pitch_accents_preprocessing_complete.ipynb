{
  "cells": [
    {
      "cell_type": "code",
      "execution_count": 12,
      "id": "a8c4ab71",
      "metadata": {
        "id": "a8c4ab71"
      },
      "outputs": [],
      "source": [
        "import numpy as np\n",
        "import pandas as pd\n",
        "from preprocessing_utils import calculate_gender_percentages, calculate_percentages, pa_merge_mappings, apply_pa_gender_merge_mappings, apply_pa_merge_mappings, apply_pa_speaker_merge_mappings, drop_diverse_gender"
      ]
    },
    {
      "cell_type": "markdown",
      "id": "90267a5d",
      "metadata": {
        "id": "90267a5d"
      },
      "source": [
        "# Files temporarily uploaded to run time"
      ]
    },
    {
      "cell_type": "code",
      "execution_count": 13,
      "id": "2ba0b1cd",
      "metadata": {
        "colab": {
          "base_uri": "https://localhost:8080/",
          "height": 243
        },
        "id": "2ba0b1cd",
        "outputId": "16f95a6e-00d0-4f34-85f5-bec98d703d90"
      },
      "outputs": [
        {
          "data": {
            "application/vnd.google.colaboratory.intrinsic+json": {
              "summary": "{\n  \"name\": \"pitch_accents_cleaned\",\n  \"rows\": 25802,\n  \"fields\": [\n    {\n      \"column\": \"Unnamed: 0\",\n      \"properties\": {\n        \"dtype\": \"number\",\n        \"std\": 7448,\n        \"min\": 0,\n        \"max\": 25801,\n        \"num_unique_values\": 25802,\n        \"samples\": [\n          2463,\n          6667,\n          20269\n        ],\n        \"semantic_type\": \"\",\n        \"description\": \"\"\n      }\n    },\n    {\n      \"column\": \"1_id\",\n      \"properties\": {\n        \"dtype\": \"number\",\n        \"std\": 191630,\n        \"min\": 153313762,\n        \"max\": 153967527,\n        \"num_unique_values\": 25616,\n        \"samples\": [\n          153525677,\n          153873344,\n          153497660\n        ],\n        \"semantic_type\": \"\",\n        \"description\": \"\"\n      }\n    },\n    {\n      \"column\": \"1_anno_default_ns:norm\",\n      \"properties\": {\n        \"dtype\": \"category\",\n        \"num_unique_values\": 1188,\n        \"samples\": [\n          \"are\",\n          \"obstructed\",\n          \"September\"\n        ],\n        \"semantic_type\": \"\",\n        \"description\": \"\"\n      }\n    },\n    {\n      \"column\": \"1_meta_setting\",\n      \"properties\": {\n        \"dtype\": \"category\",\n        \"num_unique_values\": 2,\n        \"samples\": [\n          \"informal\",\n          \"formal\"\n        ],\n        \"semantic_type\": \"\",\n        \"description\": \"\"\n      }\n    },\n    {\n      \"column\": \"1_meta_speaker-age-group\",\n      \"properties\": {\n        \"dtype\": \"category\",\n        \"num_unique_values\": 2,\n        \"samples\": [\n          \"adolescent\",\n          \"adult\"\n        ],\n        \"semantic_type\": \"\",\n        \"description\": \"\"\n      }\n    },\n    {\n      \"column\": \"1_meta_speaker-bilingual\",\n      \"properties\": {\n        \"dtype\": \"category\",\n        \"num_unique_values\": 2,\n        \"samples\": [\n          \"no\",\n          \"yes\"\n        ],\n        \"semantic_type\": \"\",\n        \"description\": \"\"\n      }\n    },\n    {\n      \"column\": \"1_meta_speaker-gender\",\n      \"properties\": {\n        \"dtype\": \"category\",\n        \"num_unique_values\": 3,\n        \"samples\": [\n          \"male\",\n          \"female\"\n        ],\n        \"semantic_type\": \"\",\n        \"description\": \"\"\n      }\n    },\n    {\n      \"column\": \"1_meta_speaker-id\",\n      \"properties\": {\n        \"dtype\": \"category\",\n        \"num_unique_values\": 86,\n        \"samples\": [\n          \"USmo64FE\",\n          \"USbi01MR\"\n        ],\n        \"semantic_type\": \"\",\n        \"description\": \"\"\n      }\n    },\n    {\n      \"column\": \"2_anno_default_ns:word_pa\",\n      \"properties\": {\n        \"dtype\": \"category\",\n        \"num_unique_values\": 34,\n        \"samples\": [\n          \"H*+!H\",\n          \"H+!H*\"\n        ],\n        \"semantic_type\": \"\",\n        \"description\": \"\"\n      }\n    }\n  ]\n}",
              "type": "dataframe",
              "variable_name": "pitch_accents_cleaned"
            },
            "text/html": [
              "\n",
              "  <div id=\"df-c29a1065-9107-4411-b5f5-61a8e54fe07f\" class=\"colab-df-container\">\n",
              "    <div>\n",
              "<style scoped>\n",
              "    .dataframe tbody tr th:only-of-type {\n",
              "        vertical-align: middle;\n",
              "    }\n",
              "\n",
              "    .dataframe tbody tr th {\n",
              "        vertical-align: top;\n",
              "    }\n",
              "\n",
              "    .dataframe thead th {\n",
              "        text-align: right;\n",
              "    }\n",
              "</style>\n",
              "<table border=\"1\" class=\"dataframe\">\n",
              "  <thead>\n",
              "    <tr style=\"text-align: right;\">\n",
              "      <th></th>\n",
              "      <th>Unnamed: 0</th>\n",
              "      <th>1_id</th>\n",
              "      <th>1_anno_default_ns:norm</th>\n",
              "      <th>1_meta_setting</th>\n",
              "      <th>1_meta_speaker-age-group</th>\n",
              "      <th>1_meta_speaker-bilingual</th>\n",
              "      <th>1_meta_speaker-gender</th>\n",
              "      <th>1_meta_speaker-id</th>\n",
              "      <th>2_anno_default_ns:word_pa</th>\n",
              "    </tr>\n",
              "  </thead>\n",
              "  <tbody>\n",
              "    <tr>\n",
              "      <th>0</th>\n",
              "      <td>0</td>\n",
              "      <td>153313762</td>\n",
              "      <td>hello</td>\n",
              "      <td>formal</td>\n",
              "      <td>adult</td>\n",
              "      <td>yes</td>\n",
              "      <td>male</td>\n",
              "      <td>USbi01MR</td>\n",
              "      <td>L+H*</td>\n",
              "    </tr>\n",
              "    <tr>\n",
              "      <th>1</th>\n",
              "      <td>1</td>\n",
              "      <td>153313795</td>\n",
              "      <td>calling</td>\n",
              "      <td>formal</td>\n",
              "      <td>adult</td>\n",
              "      <td>yes</td>\n",
              "      <td>male</td>\n",
              "      <td>USbi01MR</td>\n",
              "      <td>L+H*</td>\n",
              "    </tr>\n",
              "    <tr>\n",
              "      <th>2</th>\n",
              "      <td>2</td>\n",
              "      <td>153313804</td>\n",
              "      <td>in</td>\n",
              "      <td>formal</td>\n",
              "      <td>adult</td>\n",
              "      <td>yes</td>\n",
              "      <td>male</td>\n",
              "      <td>USbi01MR</td>\n",
              "      <td>NaN</td>\n",
              "    </tr>\n",
              "    <tr>\n",
              "      <th>3</th>\n",
              "      <td>3</td>\n",
              "      <td>153313814</td>\n",
              "      <td>connection</td>\n",
              "      <td>formal</td>\n",
              "      <td>adult</td>\n",
              "      <td>yes</td>\n",
              "      <td>male</td>\n",
              "      <td>USbi01MR</td>\n",
              "      <td>!H*</td>\n",
              "    </tr>\n",
              "    <tr>\n",
              "      <th>4</th>\n",
              "      <td>4</td>\n",
              "      <td>153313823</td>\n",
              "      <td>with</td>\n",
              "      <td>formal</td>\n",
              "      <td>adult</td>\n",
              "      <td>yes</td>\n",
              "      <td>male</td>\n",
              "      <td>USbi01MR</td>\n",
              "      <td>NaN</td>\n",
              "    </tr>\n",
              "  </tbody>\n",
              "</table>\n",
              "</div>\n",
              "    <div class=\"colab-df-buttons\">\n",
              "\n",
              "  <div class=\"colab-df-container\">\n",
              "    <button class=\"colab-df-convert\" onclick=\"convertToInteractive('df-c29a1065-9107-4411-b5f5-61a8e54fe07f')\"\n",
              "            title=\"Convert this dataframe to an interactive table.\"\n",
              "            style=\"display:none;\">\n",
              "\n",
              "  <svg xmlns=\"http://www.w3.org/2000/svg\" height=\"24px\" viewBox=\"0 -960 960 960\">\n",
              "    <path d=\"M120-120v-720h720v720H120Zm60-500h600v-160H180v160Zm220 220h160v-160H400v160Zm0 220h160v-160H400v160ZM180-400h160v-160H180v160Zm440 0h160v-160H620v160ZM180-180h160v-160H180v160Zm440 0h160v-160H620v160Z\"/>\n",
              "  </svg>\n",
              "    </button>\n",
              "\n",
              "  <style>\n",
              "    .colab-df-container {\n",
              "      display:flex;\n",
              "      gap: 12px;\n",
              "    }\n",
              "\n",
              "    .colab-df-convert {\n",
              "      background-color: #E8F0FE;\n",
              "      border: none;\n",
              "      border-radius: 50%;\n",
              "      cursor: pointer;\n",
              "      display: none;\n",
              "      fill: #1967D2;\n",
              "      height: 32px;\n",
              "      padding: 0 0 0 0;\n",
              "      width: 32px;\n",
              "    }\n",
              "\n",
              "    .colab-df-convert:hover {\n",
              "      background-color: #E2EBFA;\n",
              "      box-shadow: 0px 1px 2px rgba(60, 64, 67, 0.3), 0px 1px 3px 1px rgba(60, 64, 67, 0.15);\n",
              "      fill: #174EA6;\n",
              "    }\n",
              "\n",
              "    .colab-df-buttons div {\n",
              "      margin-bottom: 4px;\n",
              "    }\n",
              "\n",
              "    [theme=dark] .colab-df-convert {\n",
              "      background-color: #3B4455;\n",
              "      fill: #D2E3FC;\n",
              "    }\n",
              "\n",
              "    [theme=dark] .colab-df-convert:hover {\n",
              "      background-color: #434B5C;\n",
              "      box-shadow: 0px 1px 3px 1px rgba(0, 0, 0, 0.15);\n",
              "      filter: drop-shadow(0px 1px 2px rgba(0, 0, 0, 0.3));\n",
              "      fill: #FFFFFF;\n",
              "    }\n",
              "  </style>\n",
              "\n",
              "    <script>\n",
              "      const buttonEl =\n",
              "        document.querySelector('#df-c29a1065-9107-4411-b5f5-61a8e54fe07f button.colab-df-convert');\n",
              "      buttonEl.style.display =\n",
              "        google.colab.kernel.accessAllowed ? 'block' : 'none';\n",
              "\n",
              "      async function convertToInteractive(key) {\n",
              "        const element = document.querySelector('#df-c29a1065-9107-4411-b5f5-61a8e54fe07f');\n",
              "        const dataTable =\n",
              "          await google.colab.kernel.invokeFunction('convertToInteractive',\n",
              "                                                    [key], {});\n",
              "        if (!dataTable) return;\n",
              "\n",
              "        const docLinkHtml = 'Like what you see? Visit the ' +\n",
              "          '<a target=\"_blank\" href=https://colab.research.google.com/notebooks/data_table.ipynb>data table notebook</a>'\n",
              "          + ' to learn more about interactive tables.';\n",
              "        element.innerHTML = '';\n",
              "        dataTable['output_type'] = 'display_data';\n",
              "        await google.colab.output.renderOutput(dataTable, element);\n",
              "        const docLink = document.createElement('div');\n",
              "        docLink.innerHTML = docLinkHtml;\n",
              "        element.appendChild(docLink);\n",
              "      }\n",
              "    </script>\n",
              "  </div>\n",
              "\n",
              "\n",
              "<div id=\"df-95ca0822-1d50-47a5-b5fd-bc8cec7ddce5\">\n",
              "  <button class=\"colab-df-quickchart\" onclick=\"quickchart('df-95ca0822-1d50-47a5-b5fd-bc8cec7ddce5')\"\n",
              "            title=\"Suggest charts\"\n",
              "            style=\"display:none;\">\n",
              "\n",
              "<svg xmlns=\"http://www.w3.org/2000/svg\" height=\"24px\"viewBox=\"0 0 24 24\"\n",
              "     width=\"24px\">\n",
              "    <g>\n",
              "        <path d=\"M19 3H5c-1.1 0-2 .9-2 2v14c0 1.1.9 2 2 2h14c1.1 0 2-.9 2-2V5c0-1.1-.9-2-2-2zM9 17H7v-7h2v7zm4 0h-2V7h2v10zm4 0h-2v-4h2v4z\"/>\n",
              "    </g>\n",
              "</svg>\n",
              "  </button>\n",
              "\n",
              "<style>\n",
              "  .colab-df-quickchart {\n",
              "      --bg-color: #E8F0FE;\n",
              "      --fill-color: #1967D2;\n",
              "      --hover-bg-color: #E2EBFA;\n",
              "      --hover-fill-color: #174EA6;\n",
              "      --disabled-fill-color: #AAA;\n",
              "      --disabled-bg-color: #DDD;\n",
              "  }\n",
              "\n",
              "  [theme=dark] .colab-df-quickchart {\n",
              "      --bg-color: #3B4455;\n",
              "      --fill-color: #D2E3FC;\n",
              "      --hover-bg-color: #434B5C;\n",
              "      --hover-fill-color: #FFFFFF;\n",
              "      --disabled-bg-color: #3B4455;\n",
              "      --disabled-fill-color: #666;\n",
              "  }\n",
              "\n",
              "  .colab-df-quickchart {\n",
              "    background-color: var(--bg-color);\n",
              "    border: none;\n",
              "    border-radius: 50%;\n",
              "    cursor: pointer;\n",
              "    display: none;\n",
              "    fill: var(--fill-color);\n",
              "    height: 32px;\n",
              "    padding: 0;\n",
              "    width: 32px;\n",
              "  }\n",
              "\n",
              "  .colab-df-quickchart:hover {\n",
              "    background-color: var(--hover-bg-color);\n",
              "    box-shadow: 0 1px 2px rgba(60, 64, 67, 0.3), 0 1px 3px 1px rgba(60, 64, 67, 0.15);\n",
              "    fill: var(--button-hover-fill-color);\n",
              "  }\n",
              "\n",
              "  .colab-df-quickchart-complete:disabled,\n",
              "  .colab-df-quickchart-complete:disabled:hover {\n",
              "    background-color: var(--disabled-bg-color);\n",
              "    fill: var(--disabled-fill-color);\n",
              "    box-shadow: none;\n",
              "  }\n",
              "\n",
              "  .colab-df-spinner {\n",
              "    border: 2px solid var(--fill-color);\n",
              "    border-color: transparent;\n",
              "    border-bottom-color: var(--fill-color);\n",
              "    animation:\n",
              "      spin 1s steps(1) infinite;\n",
              "  }\n",
              "\n",
              "  @keyframes spin {\n",
              "    0% {\n",
              "      border-color: transparent;\n",
              "      border-bottom-color: var(--fill-color);\n",
              "      border-left-color: var(--fill-color);\n",
              "    }\n",
              "    20% {\n",
              "      border-color: transparent;\n",
              "      border-left-color: var(--fill-color);\n",
              "      border-top-color: var(--fill-color);\n",
              "    }\n",
              "    30% {\n",
              "      border-color: transparent;\n",
              "      border-left-color: var(--fill-color);\n",
              "      border-top-color: var(--fill-color);\n",
              "      border-right-color: var(--fill-color);\n",
              "    }\n",
              "    40% {\n",
              "      border-color: transparent;\n",
              "      border-right-color: var(--fill-color);\n",
              "      border-top-color: var(--fill-color);\n",
              "    }\n",
              "    60% {\n",
              "      border-color: transparent;\n",
              "      border-right-color: var(--fill-color);\n",
              "    }\n",
              "    80% {\n",
              "      border-color: transparent;\n",
              "      border-right-color: var(--fill-color);\n",
              "      border-bottom-color: var(--fill-color);\n",
              "    }\n",
              "    90% {\n",
              "      border-color: transparent;\n",
              "      border-bottom-color: var(--fill-color);\n",
              "    }\n",
              "  }\n",
              "</style>\n",
              "\n",
              "  <script>\n",
              "    async function quickchart(key) {\n",
              "      const quickchartButtonEl =\n",
              "        document.querySelector('#' + key + ' button');\n",
              "      quickchartButtonEl.disabled = true;  // To prevent multiple clicks.\n",
              "      quickchartButtonEl.classList.add('colab-df-spinner');\n",
              "      try {\n",
              "        const charts = await google.colab.kernel.invokeFunction(\n",
              "            'suggestCharts', [key], {});\n",
              "      } catch (error) {\n",
              "        console.error('Error during call to suggestCharts:', error);\n",
              "      }\n",
              "      quickchartButtonEl.classList.remove('colab-df-spinner');\n",
              "      quickchartButtonEl.classList.add('colab-df-quickchart-complete');\n",
              "    }\n",
              "    (() => {\n",
              "      let quickchartButtonEl =\n",
              "        document.querySelector('#df-95ca0822-1d50-47a5-b5fd-bc8cec7ddce5 button');\n",
              "      quickchartButtonEl.style.display =\n",
              "        google.colab.kernel.accessAllowed ? 'block' : 'none';\n",
              "    })();\n",
              "  </script>\n",
              "</div>\n",
              "\n",
              "    </div>\n",
              "  </div>\n"
            ],
            "text/plain": [
              "   Unnamed: 0       1_id 1_anno_default_ns:norm 1_meta_setting  \\\n",
              "0           0  153313762                  hello         formal   \n",
              "1           1  153313795                calling         formal   \n",
              "2           2  153313804                     in         formal   \n",
              "3           3  153313814             connection         formal   \n",
              "4           4  153313823                   with         formal   \n",
              "\n",
              "  1_meta_speaker-age-group 1_meta_speaker-bilingual 1_meta_speaker-gender  \\\n",
              "0                    adult                      yes                  male   \n",
              "1                    adult                      yes                  male   \n",
              "2                    adult                      yes                  male   \n",
              "3                    adult                      yes                  male   \n",
              "4                    adult                      yes                  male   \n",
              "\n",
              "  1_meta_speaker-id 2_anno_default_ns:word_pa  \n",
              "0          USbi01MR                      L+H*  \n",
              "1          USbi01MR                      L+H*  \n",
              "2          USbi01MR                       NaN  \n",
              "3          USbi01MR                       !H*  \n",
              "4          USbi01MR                       NaN  "
            ]
          },
          "execution_count": 13,
          "metadata": {},
          "output_type": "execute_result"
        }
      ],
      "source": [
        "file_path = \"/content/pitch accents redone.xlsx\"\n",
        "pitch_accents = pd.read_excel(file_path,) #Add sheet number along with file path\n",
        "\n",
        "pitch_accents_cleaned = pitch_accents[~pitch_accents['1_meta_speaker-id'].isin([\"'NULL'\"])]\n",
        "pitch_accents_cleaned.head(5)\n"
      ]
    },
    {
      "cell_type": "markdown",
      "id": "66ddbfef",
      "metadata": {
        "id": "66ddbfef"
      },
      "source": [
        "# Discard labels set"
      ]
    },
    {
      "cell_type": "code",
      "execution_count": 14,
      "id": "fe9bf851",
      "metadata": {
        "id": "fe9bf851"
      },
      "outputs": [],
      "source": [
        "pitch_accents_to_discard = ['L-L%', 'L**H', 'L-', 'H-L%', 'H-', '!H', 'L+', '*?', '*', 'L-H%', 'L*+^H*', '!H-L%', 'H-H%', 'H+L', 'L*+H*', 'L++H', 'L-H*', 'L*H*', 'L*+H%', '!H+', 'H+!H', 'L+H+']\n",
        "\n",
        "pitch_accents_cleaned['2_anno_default_ns:word_pa'] = pitch_accents_cleaned['2_anno_default_ns:word_pa'].replace(pitch_accents_to_discard, np.nan)\n",
        "\n",
        "# Correction labels set\n",
        "pa_replacements = [\n",
        "    (\"H*,L-\", \"H*\"),\n",
        "    (\"L*,L*\", \"L*\"),\n",
        "    (\"L*,L*+H\", \"L*\"),\n",
        "    (\"H*,H-L%\", \"H*\"),\n",
        "    (\"L*,L-L%\", \"L*\"),\n",
        "    (\"H*,L-L%\", \"H*\"),\n",
        "    (\"L*,L-\", \"L*\"),\n",
        "    (\"^H*,H-L%\", \"^H*\"),\n",
        "    (\"L+H*, L-\", \"L+H*\"),\n",
        "    (\"!H*,L-L%\", \"!H*\"),\n",
        "    (\"H*,!H*\", \"H*\"),\n",
        "    (\"L+^H*,L-L%\", \"L+^H*\"),\n",
        "    (\"L*+H,H-\", \"L*+H\"),\n",
        "    (\"H*,H-\", \"H*\"),\n",
        "    (\"L*,H*\", \"L*\"),\n",
        "    (\"L*H\", \"L+*H\"),\n",
        "    (\"L*H+\", \"L*+H\"),\n",
        "    (\"HL*\", \"H+L*\"),\n",
        "    (\"H**\", \"H*\"),\n",
        "    (\"H*!H\", \"H*+!H\"),\n",
        "    (\"1H*\", \"H*\"),\n",
        "    (\"^H*^\", \"^H*\"),\n",
        "    (\"^H*,\", \"^H*\"),\n",
        "    (\"L+H*,L-\", \"L+H*\")\n",
        "]\n",
        "\n",
        "for to_replace, value in pa_replacements:\n",
        "    pitch_accents_cleaned = pitch_accents_cleaned.replace(to_replace=to_replace, value=value)\n"
      ]
    },
    {
      "cell_type": "code",
      "execution_count": 15,
      "id": "3f924760",
      "metadata": {
        "colab": {
          "base_uri": "https://localhost:8080/"
        },
        "id": "3f924760",
        "outputId": "5f5f233e-b272-4aa8-9173-5e7f2d7de789"
      },
      "outputs": [
        {
          "name": "stdout",
          "output_type": "stream",
          "text": [
            "Total number of words: 25802\n",
            "Total number of words by bilingual: 1_meta_speaker-bilingual\n",
            "no      6325\n",
            "yes    19477\n",
            "Name: 1_anno_default_ns:norm, dtype: int64\n",
            "Total number of words: 25802\n",
            "Total number of Pitch Accents: 12854\n",
            "Average Number of Pitch Accents per word: 0.49817843578017207\n",
            "Percentage of words without Pitch Accents: 50.18%\n"
          ]
        }
      ],
      "source": [
        "pa_cleaned = pitch_accents_cleaned\n",
        "\n",
        "total_pa_counts = pa_cleaned['2_anno_default_ns:word_pa'].value_counts()\n",
        "total_number_of_words_pa = pa_cleaned['1_anno_default_ns:norm'].count()\n",
        "print(f\"Total number of words: {total_number_of_words_pa}\")\n",
        "total_number_of_words_pa_bilingual = pa_cleaned.groupby('1_meta_speaker-bilingual')['1_anno_default_ns:norm'].count()\n",
        "print(f\"Total number of words by bilingual: {total_number_of_words_pa_bilingual}\")\n",
        "\n",
        "merged_pa_counts = apply_pa_merge_mappings(total_pa_counts, pa_merge_mappings)\n",
        "merged_pa_counts = merged_pa_counts.sort_values(ascending=False).reset_index(drop=False)\n",
        "merged_pa_counts.columns = ['2_anno_default_ns:word_pa', 'count']\n",
        "merged_pa_counts\n",
        "\n",
        "number_of_words = pa_cleaned['1_anno_default_ns:norm'].count()\n",
        "number_of_pa = pa_cleaned['2_anno_default_ns:word_pa'].count()\n",
        "average_pa = number_of_pa / number_of_words\n",
        "no_pa_percent= (number_of_words - number_of_pa) / number_of_words * 100\n",
        "\n",
        "print(f\"Total number of words: {number_of_words}\")\n",
        "print(f\"Total number of Pitch Accents: {number_of_pa}\")\n",
        "print(f\"Average Number of Pitch Accents per word: {average_pa}\")\n",
        "print(f\"Percentage of words without Pitch Accents: {no_pa_percent:.2f}%\")\n"
      ]
    },
    {
      "cell_type": "markdown",
      "id": "6e1f6902",
      "metadata": {
        "id": "6e1f6902"
      },
      "source": [
        "# Number of male and female speakers"
      ]
    },
    {
      "cell_type": "code",
      "execution_count": 16,
      "id": "0533e39e",
      "metadata": {
        "colab": {
          "base_uri": "https://localhost:8080/"
        },
        "id": "0533e39e",
        "outputId": "0331e460-180f-4317-c2c7-39b16685827a"
      },
      "outputs": [
        {
          "name": "stdout",
          "output_type": "stream",
          "text": [
            "Number of male speakers: 32\n",
            "Number of female speakers: 53\n",
            "Number of diverse speakers: 1\n"
          ]
        },
        {
          "data": {
            "text/plain": [
              "array(['male', 'female', 'diverse'], dtype=object)"
            ]
          },
          "execution_count": 16,
          "metadata": {},
          "output_type": "execute_result"
        }
      ],
      "source": [
        "number_of_male_speakers = pa_cleaned[pa_cleaned['1_meta_speaker-gender'] == 'male']['1_meta_speaker-id'].nunique()\n",
        "number_of_female_speakers = pa_cleaned[pa_cleaned['1_meta_speaker-gender'] == 'female']['1_meta_speaker-id'].nunique()\n",
        "number_of_diverse_speakers = pa_cleaned[pa_cleaned['1_meta_speaker-gender'] == 'diverse']['1_meta_speaker-id'].nunique()\n",
        "\n",
        "print(f\"Number of male speakers: {number_of_male_speakers}\")\n",
        "print(f\"Number of female speakers: {number_of_female_speakers}\")\n",
        "print(f\"Number of diverse speakers: {number_of_diverse_speakers}\")\n",
        "pa_cleaned['1_meta_speaker-gender'].unique()\n"
      ]
    },
    {
      "cell_type": "markdown",
      "id": "a110c483",
      "metadata": {
        "id": "a110c483"
      },
      "source": [
        "# After dropping diverse speakers"
      ]
    },
    {
      "cell_type": "code",
      "execution_count": 17,
      "id": "2b706fce",
      "metadata": {
        "colab": {
          "base_uri": "https://localhost:8080/"
        },
        "id": "2b706fce",
        "outputId": "6882555a-e327-457b-e987-95bf43caa7f5"
      },
      "outputs": [
        {
          "name": "stdout",
          "output_type": "stream",
          "text": [
            "Total number of words: 25631\n",
            "Total number of words by bilingual: 1_meta_speaker-bilingual\n",
            "no      6154\n",
            "yes    19477\n",
            "Name: 1_anno_default_ns:norm, dtype: int64\n",
            "Total number of words: 25631\n",
            "Total number of Pitch Accents: 12775\n",
            "Average Number of Pitch Accents per word: 0.49841988217393\n",
            "Percentage of words without Pitch Accents: 50.16%\n",
            "Number of male speakers: 32\n",
            "Number of female speakers: 53\n"
          ]
        }
      ],
      "source": [
        "pa_cleaned = drop_diverse_gender(pa_cleaned)\n",
        "\n",
        "total_pa_counts = pa_cleaned['2_anno_default_ns:word_pa'].value_counts()\n",
        "total_number_of_words_pa = pa_cleaned['1_anno_default_ns:norm'].count()\n",
        "print(f\"Total number of words: {total_number_of_words_pa}\")\n",
        "total_number_of_words_pa_bilingual = pa_cleaned.groupby('1_meta_speaker-bilingual')['1_anno_default_ns:norm'].count()\n",
        "print(f\"Total number of words by bilingual: {total_number_of_words_pa_bilingual}\")\n",
        "\n",
        "merged_pa_counts = apply_pa_merge_mappings(total_pa_counts, pa_merge_mappings)\n",
        "merged_pa_counts = merged_pa_counts.sort_values(ascending=False).reset_index(drop=False)\n",
        "merged_pa_counts.columns = ['2_anno_default_ns:word_pa', 'count']\n",
        "merged_pa_counts\n",
        "\n",
        "number_of_words = pa_cleaned['1_anno_default_ns:norm'].count()\n",
        "number_of_pa = pa_cleaned['2_anno_default_ns:word_pa'].count()\n",
        "average_pa = number_of_pa / number_of_words\n",
        "no_pa_percent= (number_of_words - number_of_pa) / number_of_words * 100\n",
        "\n",
        "print(f\"Total number of words: {number_of_words}\")\n",
        "print(f\"Total number of Pitch Accents: {number_of_pa}\")\n",
        "print(f\"Average Number of Pitch Accents per word: {average_pa}\")\n",
        "print(f\"Percentage of words without Pitch Accents: {no_pa_percent:.2f}%\")\n",
        "\n",
        "number_of_male_speakers = pa_cleaned[pa_cleaned['1_meta_speaker-gender'] == 'male']['1_meta_speaker-id'].nunique()\n",
        "number_of_female_speakers = pa_cleaned[pa_cleaned['1_meta_speaker-gender'] == 'female']['1_meta_speaker-id'].nunique()\n",
        "\n",
        "print(f\"Number of male speakers: {number_of_male_speakers}\")\n",
        "print(f\"Number of female speakers: {number_of_female_speakers}\")\n"
      ]
    },
    {
      "cell_type": "markdown",
      "id": "e120754b",
      "metadata": {
        "id": "e120754b"
      },
      "source": [
        "# PA and Speaker Group"
      ]
    },
    {
      "cell_type": "code",
      "execution_count": 19,
      "id": "b3b7e9d4",
      "metadata": {
        "colab": {
          "base_uri": "https://localhost:8080/"
        },
        "id": "b3b7e9d4",
        "outputId": "474b6400-07ef-4824-cb0a-d575a98ff604"
      },
      "outputs": [
        {
          "name": "stdout",
          "output_type": "stream",
          "text": [
            "Total number of x: 12775\n",
            "Number of x for bilingual speakers: 9866\n",
            "Number of x for monolingual speakers: 2909\n",
            "Percentage of x for bilingual speakers: 77.23%\n",
            "Percentage of x for monolingual speakers: 22.77%\n"
          ]
        }
      ],
      "source": [
        "# Calculate pitch accent counts for bilingual and monolingual groups\n",
        "bilingual_pa_count = pa_cleaned[pa_cleaned['1_meta_speaker-bilingual'] == 'yes']['2_anno_default_ns:word_pa'].value_counts()\n",
        "monolingual_pa_count = pa_cleaned[pa_cleaned['1_meta_speaker-bilingual'] == 'no']['2_anno_default_ns:word_pa'].value_counts()\n",
        "\n",
        "bilingual_df = pd.DataFrame(bilingual_pa_count).reset_index()\n",
        "bilingual_df.columns = ['Pitch Accent', 'Bilingual Count']\n",
        "\n",
        "monolingual_df = pd.DataFrame(monolingual_pa_count).reset_index()\n",
        "monolingual_df.columns = ['Pitch Accent', 'Monolingual Count']\n",
        "\n",
        "speaker_group_pa = pd.merge(bilingual_df, monolingual_df, on='Pitch Accent', how='outer').fillna(0)\n",
        "\n",
        "speaker_group_pa['Bilingual Count'] = speaker_group_pa['Bilingual Count'].astype(int)\n",
        "speaker_group_pa['Monolingual Count'] = speaker_group_pa['Monolingual Count'].astype(int)\n",
        "\n",
        "speaker_group_pa\n",
        "merged_speaker_group_pa= apply_pa_speaker_merge_mappings(speaker_group_pa, pa_merge_mappings)\n",
        "merged_speaker_group_pa = merged_speaker_group_pa.sort_values(by=['Bilingual Count', 'Monolingual Count'], ascending=False).reset_index(drop=True)\n",
        "merged_speaker_group_pa\n",
        "\n",
        "calculate_percentages(pa_cleaned, '2_anno_default_ns:word_pa', '1_meta_speaker-bilingual')\n"
      ]
    },
    {
      "cell_type": "markdown",
      "id": "f50ea764",
      "metadata": {
        "id": "f50ea764"
      },
      "source": [
        "# PA and Gender"
      ]
    },
    {
      "cell_type": "code",
      "execution_count": 23,
      "id": "c6a5b783",
      "metadata": {
        "colab": {
          "base_uri": "https://localhost:8080/"
        },
        "id": "c6a5b783",
        "outputId": "899a65c4-9852-4594-846c-f4dbdfa54800"
      },
      "outputs": [
        {
          "name": "stdout",
          "output_type": "stream",
          "text": [
            "Total number of x: 12775\n",
            "Number of x for male speakers: 5158\n",
            "Number of x for female speakers: 7617\n",
            "Percentage of x for male speakers: 40.38%\n",
            "Percentage of x for female speakers: 59.62%\n"
          ]
        }
      ],
      "source": [
        "# Calculate pitch accent counts for male and female groups\n",
        "male_pa_count = pa_cleaned[pa_cleaned['1_meta_speaker-gender'] == 'male']['2_anno_default_ns:word_pa'].value_counts()\n",
        "female_pa_count = pa_cleaned[pa_cleaned['1_meta_speaker-gender'] == 'female']['2_anno_default_ns:word_pa'].value_counts()\n",
        "\n",
        "# Create DataFrames\n",
        "male_df = pd.DataFrame(male_pa_count).reset_index()\n",
        "male_df.columns = ['Pitch Accent', 'Male Count']\n",
        "\n",
        "female_df = pd.DataFrame(female_pa_count).reset_index()\n",
        "female_df.columns = ['Pitch Accent', 'Female Count']\n",
        "\n",
        "# Merge DataFrames\n",
        "gender_group_pa = pd.merge(male_df, female_df, on='Pitch Accent', how='outer').fillna(0)\n",
        "\n",
        "# Convert counts to integers\n",
        "gender_group_pa['Male Count'] = gender_group_pa['Male Count'].astype(int)\n",
        "gender_group_pa['Female Count'] = gender_group_pa['Female Count'].astype(int)\n",
        "\n",
        "gender_group_pa\n",
        "\n",
        "merged_gender_group_pa = apply_pa_gender_merge_mappings(gender_group_pa, pa_merge_mappings)\n",
        "merged_gender_group_pa = merged_gender_group_pa.sort_values(by=['Male Count', 'Female Count'], ascending=False).reset_index(drop=True)\n",
        "merged_gender_group_pa\n",
        "\n",
        "calculate_gender_percentages(pa_cleaned,  \"2_anno_default_ns:word_pa\", \"1_meta_speaker-gender\")\n"
      ]
    }
  ],
  "metadata": {
    "colab": {
      "provenance": []
    },
    "kernelspec": {
      "display_name": "Python 3",
      "name": "python3"
    },
    "language_info": {
      "name": "python"
    }
  },
  "nbformat": 4,
  "nbformat_minor": 5
}
